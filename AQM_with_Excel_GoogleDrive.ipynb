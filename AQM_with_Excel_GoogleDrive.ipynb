{
 "cells": [
  {
   "cell_type": "markdown",
   "id": "e3c31ac8",
   "metadata": {
    "id": "e3c31ac8",
    "scrolled": false
   },
   "source": [
    "# 1. Funktionen definieren"
   ]
  },
  {
   "cell_type": "code",
   "execution_count": null,
   "id": "a02b392c",
   "metadata": {
    "executionInfo": {
     "elapsed": 235,
     "status": "ok",
     "timestamp": 1653043577069,
     "user": {
      "displayName": "Eldar Hasani",
      "userId": "00976023312627703360"
     },
     "user_tz": -120
    },
    "id": "a02b392c"
   },
   "outputs": [],
   "source": [
    "#################################Funktion die NA's zählt und anzeigt ob über 1#################################\n",
    "def na_ckeck(timeseries):\n",
    "    try:\n",
    "        import pandas as pd\n",
    "        import numpy as np\n",
    "        \n",
    "        anzahl = 0\n",
    "\n",
    "        for i in range(0,len(timeseries.columns)):\n",
    "            number = sum(timeseries.iloc[:, i].isna())\n",
    "            if number > 0:\n",
    "                anzahl += 1\n",
    "                print(timeseries.columns[i] + \" hat \" + str(number) + \" NA's \")\n",
    "                \n",
    "        if anzahl != 0 and anzahl != len(timeseries.columns):\n",
    "            print(\"\")\n",
    "            print(\"Der Rest hat keine NA's.\")\n",
    "            \n",
    "        if anzahl == 0:\n",
    "            print(\"Der gesamte Datensatz hat keine NA's.\")       \n",
    "        \n",
    "    except ModuleNotFoundError as m:\n",
    "        print(str(m)+\".\"+\" Bitte installiere das Modul mit 'pip install'.\")  "
   ]
  },
  {
   "cell_type": "code",
   "execution_count": null,
   "id": "940ba4a1",
   "metadata": {
    "executionInfo": {
     "elapsed": 231,
     "status": "ok",
     "timestamp": 1653043594953,
     "user": {
      "displayName": "Eldar Hasani",
      "userId": "00976023312627703360"
     },
     "user_tz": -120
    },
    "id": "940ba4a1"
   },
   "outputs": [],
   "source": [
    "#################################Funktion die Trends anzeigt#################################\n",
    "def visual_stationarity(timeseries, size):\n",
    "    \n",
    "    import pandas as pd\n",
    "    import matplotlib.pylab as plt\n",
    "    %matplotlib inline\n",
    "    \n",
    "    for i in range(0,len(timeseries.columns)):\n",
    "        x = timeseries.iloc[: , i]\n",
    "        x = np.reshape(x, len(x))\n",
    "        rol_mean = x.rolling(window=size).mean() #SMA = Simple Moving Average\n",
    "        rol_weighted_mean = x.ewm(span=size).mean() #EMA = Exponential Moving Average\n",
    "\n",
    "        plt.plot(x, color = 'black',label = 'Orginal')\n",
    "        plt.plot(rol_mean, color = 'red', label = 'Einfacher Moving Average')\n",
    "        plt.plot(rol_weighted_mean, color = 'green', label = 'Exponentieller Moving Average')\n",
    "        plt.legend(loc = 'best')\n",
    "        plt.title(x.name)\n",
    "        plt.show()"
   ]
  },
  {
   "cell_type": "code",
   "execution_count": null,
   "id": "dc27ee45",
   "metadata": {
    "executionInfo": {
     "elapsed": 3,
     "status": "ok",
     "timestamp": 1653043600121,
     "user": {
      "displayName": "Eldar Hasani",
      "userId": "00976023312627703360"
     },
     "user_tz": -120
    },
    "id": "dc27ee45"
   },
   "outputs": [],
   "source": [
    "#################################Funktion die Trends anzeigt#################################\n",
    "def visual_describe(timeseries):\n",
    "    \n",
    "    import pandas as pd\n",
    "    import matplotlib.pylab as plt\n",
    "    %matplotlib inline\n",
    "\n",
    "    for i in range(0,len(timeseries.columns)):\n",
    "        mean = timeseries.iloc[:,i].groupby(pd.Grouper(freq='1Y')).mean()\n",
    "        mean = np.reshape(mean, len(mean))\n",
    "        median = timeseries.iloc[:,i].groupby(pd.Grouper(freq='1Y')).median()\n",
    "        median = np.reshape(median, len(median))\n",
    "        std = timeseries.iloc[:,i].groupby(pd.Grouper(freq='1Y')).std()\n",
    "        std = np.reshape(std, len(std))\n",
    "\n",
    "        plt.plot(mean, color = 'black',label = 'Mean')\n",
    "        plt.plot(median, color = 'red', label = 'Median')\n",
    "        plt.plot(std, color = 'green', label = 'Standardabweichung')\n",
    "        plt.legend(loc = 'best')\n",
    "        plt.title(timeseries.columns[i])\n",
    "        plt.show()"
   ]
  },
  {
   "cell_type": "code",
   "execution_count": null,
   "id": "84b934e6",
   "metadata": {
    "executionInfo": {
     "elapsed": 3,
     "status": "ok",
     "timestamp": 1653043598567,
     "user": {
      "displayName": "Eldar Hasani",
      "userId": "00976023312627703360"
     },
     "user_tz": -120
    },
    "id": "84b934e6"
   },
   "outputs": [],
   "source": [
    "def dickey_fuller(timeseries):\n",
    "    from statsmodels.tsa.stattools import adfuller\n",
    "    \n",
    "    anzahl = 0\n",
    "    \n",
    "    for i in range(0,len(timeseries.columns)):\n",
    "        result = adfuller(timeseries.iloc[:, i])\n",
    "        if result[1] >= 0.05:\n",
    "            anzahl += 1\n",
    "            print(\"Der p-Value von \" + str(timeseries.columns[i]) + \" ist %f\" % result[1] + \". Somit ist die Zeitreihe nicht stationär.\")\n",
    "            \n",
    "    if anzahl == 0:\n",
    "        print('Der gesamte Datensatz ist Stationär.')\n",
    "        \n",
    "    if anzahl == len(timeseries.columns):\n",
    "        print(\"\")\n",
    "        print('Somit ist der gesamte Datensatz nicht Stationär.')     \n",
    "        \n",
    "    if anzahl != 0 and anzahl != len(timeseries.columns):\n",
    "        print(\"\")\n",
    "        print(\"Der Rest ist Stationär.\")"
   ]
  },
  {
   "cell_type": "code",
   "execution_count": null,
   "id": "ee267895",
   "metadata": {
    "id": "ee267895"
   },
   "outputs": [],
   "source": [
    "#################################Funktion die Normalverteilung berechnet (Jarque Bera)#################################\n",
    "def jarque_bera(timeseries):\n",
    "    import scipy.stats as stats\n",
    "    \n",
    "    anzahl = 0\n",
    "    \n",
    "    for i in range(0,len(timeseries.columns)):\n",
    "        result = stats.jarque_bera(timeseries.iloc[: , i])\n",
    "        \n",
    "        if result[1] <= 0.05:\n",
    "            anzahl += 1\n",
    "            print(\"Der p-Value von \" + str(timeseries.columns[i]) + \" ist %f\" % result[1] + \". Somit ist die Zeitreihe nicht normalverteilt.\")\n",
    "            \n",
    "    if anzahl == 0:\n",
    "        print('Der gesamte Datensatz ist Normalverteeilt.')\n",
    "        \n",
    "    if anzahl == len(timeseries.columns):\n",
    "        print(\"\")\n",
    "        print('Somit ist der gesamte Datensatz nicht Normalverteilt.')     \n",
    "        \n",
    "    if anzahl != 0 and anzahl != len(timeseries.columns):\n",
    "        print(\"\")\n",
    "        print(\"Der Rest ist Normalverteilt.\")        "
   ]
  },
  {
   "cell_type": "code",
   "execution_count": null,
   "id": "f23423bb",
   "metadata": {
    "id": "f23423bb"
   },
   "outputs": [],
   "source": [
    "#################################Funktion die Normalverteilung berechnet (Jarque Bera)#################################\n",
    "def jarque_bera_res(residuals):\n",
    "    import scipy.stats as stats\n",
    "    \n",
    "    anzahl = 0\n",
    "    \n",
    "    for i in range(0,len(residuals.columns)):\n",
    "        result = stats.jarque_bera(residuals.iloc[: , i])\n",
    "        \n",
    "        if result[1] <= 0.05:\n",
    "            anzahl += 1\n",
    "            print(\"Der p-Value von \" + str(residuals.columns[i]) + \" ist %f\" % result[1] + \". Somit sind die Residuen nicht normalverteilt.\")\n",
    "            \n",
    "    if anzahl == 0:\n",
    "        print('Alle Residuen sind Normalverteeilt.')\n",
    "        \n",
    "    if anzahl == len(residuals.columns):\n",
    "        print(\"\")\n",
    "        print('Somit sind alle Residuen nicht Normalverteilt.')     \n",
    "        \n",
    "    if anzahl != 0 and anzahl != len(residuals.columns):\n",
    "        print(\"\")\n",
    "        print(\"Die restliche Residuen sind Normalverteilt.\")  "
   ]
  },
  {
   "cell_type": "code",
   "execution_count": null,
   "id": "26554a9f",
   "metadata": {
    "id": "26554a9f"
   },
   "outputs": [],
   "source": [
    "#################################Funktion die Normalverteilung berechnet (Sharpiro Wilk)#################################\n",
    "def shapiro_wilk(timeseries):\n",
    "    import scipy as sp\n",
    "    \n",
    "    anzahl = 0\n",
    "    \n",
    "    for i in range(0,len(timeseries.columns)):\n",
    "        result = sp.stats.shapiro(timeseries.iloc[: , i])\n",
    "        \n",
    "        if result[1] <= 0.05:\n",
    "            anzahl += 1\n",
    "            print(\"Der p-Value von \" + str(timeseries.columns[i]) + \" ist %f\" % result[1] + \". Somit ist die Zeitreihe nicht normalverteilt.\")\n",
    "            \n",
    "    if anzahl == 0:\n",
    "        print('Der gesamte Datensatz ist Normalverteeilt.')\n",
    "        \n",
    "    if anzahl == len(timeseries.columns):\n",
    "        print(\"\")\n",
    "        print('Somit ist der gesamte Datensatz nicht Normalverteilt.')     \n",
    "        \n",
    "    if anzahl != 0 and anzahl != len(timeseries.columns):\n",
    "        print(\"\")\n",
    "        print(\"Der Rest ist Normalverteilt.\")             "
   ]
  },
  {
   "cell_type": "code",
   "execution_count": null,
   "id": "ee019e28",
   "metadata": {
    "id": "ee019e28"
   },
   "outputs": [],
   "source": [
    "#################################Funktion die eine Acf zeichnet#################################\n",
    "def acf_plot(timeseries, lag):\n",
    "    from statsmodels.tsa.stattools import acf, pacf\n",
    "    from statsmodels.graphics.tsaplots import plot_acf, plot_pacf\n",
    "    import numpy as np\n",
    "    \n",
    "    for i in range(0,len(timeseries.columns)):\n",
    "        x = np.log(timeseries.iloc[: , i]) - np.log(timeseries.iloc[: , i].shift(periods = 1))\n",
    "        y = x.dropna()\n",
    "        plot_acf(y, lags=lag)\n",
    "        plot_pacf(y, lags=lag)"
   ]
  },
  {
   "cell_type": "code",
   "execution_count": null,
   "id": "74d77e45",
   "metadata": {
    "id": "74d77e45"
   },
   "outputs": [],
   "source": [
    "#Log Transformation falls nicht Stationär\n",
    "def logtransform(timeseries):\n",
    "    from statsmodels.tsa.stattools import adfuller\n",
    "    \n",
    "    timeseries = timeseries.dropna()\n",
    "  \n",
    "    def findlog(x):\n",
    "        import numpy as np\n",
    "        if x > 0:\n",
    "            log = np.log(x)\n",
    "        elif x < 0:\n",
    "            log = np.log(x*-1)*-1\n",
    "        elif x == 0:\n",
    "            log = 0\n",
    "        return log\n",
    "    \n",
    "    for i in range(0,len(timeseries.columns)):\n",
    "        result = adfuller(timeseries.iloc[:, i])\n",
    "\n",
    "        if result[1] >= 0.05:\n",
    "            timeseries.iloc[1:, i] = (timeseries.iloc[:, i].apply(findlog) - timeseries.iloc[:, i].apply(findlog).shift(1)).dropna()\n",
    "    \n",
    "    return timeseries"
   ]
  },
  {
   "cell_type": "code",
   "execution_count": null,
   "id": "490ab8f2",
   "metadata": {
    "id": "490ab8f2"
   },
   "outputs": [],
   "source": [
    "#################################Funktion die Boxplots anzeigt#################################\n",
    "def boxplot(timeseries):\n",
    "    import pandas as pd\n",
    "    import matplotlib.pyplot as plt\n",
    "    import lasio\n",
    "\n",
    "    fig, axs = plt.subplots(1, len(timeseries.columns), figsize=(20,5))\n",
    "\n",
    "    for i, ax in enumerate(axs.flat):\n",
    "        ax.boxplot(timeseries.iloc[:,i])\n",
    "        ax.set_title(timeseries.columns[i])\n",
    "        ax.tick_params(axis='y', labelsize=14)\n",
    "\n",
    "    plt.tight_layout()"
   ]
  },
  {
   "cell_type": "code",
   "execution_count": null,
   "id": "3d1d89bd",
   "metadata": {
    "id": "3d1d89bd"
   },
   "outputs": [],
   "source": [
    "#################################Funktion die ein Rolling Regression macht#################################\n",
    "\n",
    "def rolling_regression(y, x, window=60):\n",
    "    x = x.dropna()\n",
    "    y = y.dropna()\n",
    "\n",
    "    if x.index.size > y.index.size:\n",
    "        x = x[y.index]\n",
    "    else:\n",
    "        y = y[x.index]\n",
    "\n",
    "    if x.index.size < window:\n",
    "        return None\n",
    "    else:\n",
    "        estimate_data = []\n",
    "        for i in range(window, x.index.size+1):\n",
    "            X_slice = x.values[i-window:i,:] # always index in np as opposed to pandas, much faster\n",
    "            y_slice = y.values[i-window:i]\n",
    "            coeff = np.dot(np.dot(np.linalg.inv(np.dot(X_slice.T, X_slice)), X_slice.T), y_slice)\n",
    "            estimate_data.append(coeff[0] * x.values[window-1] + coeff[1])\n",
    "        estimate = pd.Series(data=estimate_data, index=x.index[window-1:]) \n",
    "        return estimate"
   ]
  },
  {
   "cell_type": "markdown",
   "id": "b98f1a1c",
   "metadata": {
    "id": "b98f1a1c"
   },
   "source": [
    "# 2. Daten einlesen"
   ]
  },
  {
   "cell_type": "markdown",
   "id": "1d9490bf",
   "metadata": {
    "id": "1d9490bf"
   },
   "source": [
    "## 2.1 Assetdaten"
   ]
  },
  {
   "cell_type": "code",
   "execution_count": null,
   "id": "95b9349b",
   "metadata": {
    "executionInfo": {
     "elapsed": 211,
     "status": "ok",
     "timestamp": 1653042833099,
     "user": {
      "displayName": "Eldar Hasani",
      "userId": "00976023312627703360"
     },
     "user_tz": -120
    },
    "id": "95b9349b"
   },
   "outputs": [],
   "source": [
    "from google.colab import drive "
   ]
  },
  {
   "cell_type": "code",
   "execution_count": null,
   "id": "EPOS8R-aB-Q-",
   "metadata": {
    "colab": {
     "base_uri": "https://localhost:8080/"
    },
    "executionInfo": {
     "elapsed": 3217,
     "status": "ok",
     "timestamp": 1653043266983,
     "user": {
      "displayName": "Eldar Hasani",
      "userId": "00976023312627703360"
     },
     "user_tz": -120
    },
    "id": "EPOS8R-aB-Q-",
    "outputId": "883b38a4-5497-4779-9f29-bec4c5c8c9a3"
   },
   "outputs": [],
   "source": [
    "drive.mount('/content/gdrive/')"
   ]
  },
  {
   "cell_type": "code",
   "execution_count": null,
   "id": "tiQ7VilyBzfO",
   "metadata": {
    "colab": {
     "base_uri": "https://localhost:8080/"
    },
    "executionInfo": {
     "elapsed": 1095,
     "status": "ok",
     "timestamp": 1653043412042,
     "user": {
      "displayName": "Eldar Hasani",
      "userId": "00976023312627703360"
     },
     "user_tz": -120
    },
    "id": "tiQ7VilyBzfO",
    "outputId": "21cd2b9c-32a3-4049-f7f8-c52dae15766a"
   },
   "outputs": [],
   "source": [
    "import pandas as pd\n",
    "assetdata = pd.read_excel(r'/content/gdrive/My Drive/Colab Notebooks/assetdata.xlsx')\n",
    "assetdata.index = assetdata['Date']\n",
    "assetdata = assetdata.drop('Date', 1)"
   ]
  },
  {
   "cell_type": "markdown",
   "id": "281f47d2",
   "metadata": {
    "id": "281f47d2"
   },
   "source": [
    "## 2.2 Macrodaten"
   ]
  },
  {
   "cell_type": "code",
   "execution_count": null,
   "id": "fc660dad",
   "metadata": {
    "colab": {
     "base_uri": "https://localhost:8080/"
    },
    "executionInfo": {
     "elapsed": 552,
     "status": "ok",
     "timestamp": 1653043464415,
     "user": {
      "displayName": "Eldar Hasani",
      "userId": "00976023312627703360"
     },
     "user_tz": -120
    },
    "id": "fc660dad",
    "outputId": "dc37e19c-69fc-4f44-966b-c9c76ab7343f",
    "scrolled": false
   },
   "outputs": [],
   "source": [
    "macrodata_us = pd.read_excel(r'/content/gdrive/My Drive/Colab Notebooks/macrodata_us.xlsx')\n",
    "macrodata_us.index = macrodata_us['Date']\n",
    "macrodata_us = macrodata_us.drop('Date', 1)"
   ]
  },
  {
   "cell_type": "code",
   "execution_count": null,
   "id": "6ce76259",
   "metadata": {
    "colab": {
     "base_uri": "https://localhost:8080/"
    },
    "executionInfo": {
     "elapsed": 579,
     "status": "ok",
     "timestamp": 1653043495358,
     "user": {
      "displayName": "Eldar Hasani",
      "userId": "00976023312627703360"
     },
     "user_tz": -120
    },
    "id": "6ce76259",
    "outputId": "a4860df2-25c0-48d6-e5c8-395123ad8948"
   },
   "outputs": [],
   "source": [
    "macrodata_nl = pd.read_excel(r'/content/gdrive/My Drive/Colab Notebooks/macrodata_nl.xlsx')\n",
    "macrodata_nl.index = macrodata_nl['Date']\n",
    "macrodata_nl = macrodata_nl.drop('Date', 1)"
   ]
  },
  {
   "cell_type": "code",
   "execution_count": null,
   "id": "446d1809",
   "metadata": {
    "colab": {
     "base_uri": "https://localhost:8080/"
    },
    "executionInfo": {
     "elapsed": 246,
     "status": "ok",
     "timestamp": 1653043554497,
     "user": {
      "displayName": "Eldar Hasani",
      "userId": "00976023312627703360"
     },
     "user_tz": -120
    },
    "id": "446d1809",
    "outputId": "664f8cd4-12b7-48e1-ee9f-83dc6f5fcc35"
   },
   "outputs": [],
   "source": [
    "macrodata_eu = pd.read_excel(r'/content/gdrive/My Drive/Colab Notebooks/macrodata_eu.xlsx')\n",
    "macrodata_eu.index = macrodata_eu['Date']\n",
    "macrodata_eu = macrodata_eu.drop('Date', 1)"
   ]
  },
  {
   "cell_type": "code",
   "execution_count": null,
   "id": "9f0115ef",
   "metadata": {
    "colab": {
     "base_uri": "https://localhost:8080/"
    },
    "executionInfo": {
     "elapsed": 371,
     "status": "ok",
     "timestamp": 1653043555698,
     "user": {
      "displayName": "Eldar Hasani",
      "userId": "00976023312627703360"
     },
     "user_tz": -120
    },
    "id": "9f0115ef",
    "outputId": "94ff6d68-878a-4c5b-98ce-76d486ea38ce"
   },
   "outputs": [],
   "source": [
    "macrodata_ch = pd.read_excel(r'/content/gdrive/My Drive/Colab Notebooks/macrodata_ch.xlsx')\n",
    "macrodata_ch.index = macrodata_ch['Date']\n",
    "macrodata_ch = macrodata_ch.drop('Date', 1)"
   ]
  },
  {
   "cell_type": "code",
   "execution_count": null,
   "id": "e4df087a",
   "metadata": {
    "colab": {
     "base_uri": "https://localhost:8080/"
    },
    "executionInfo": {
     "elapsed": 551,
     "status": "ok",
     "timestamp": 1653043559281,
     "user": {
      "displayName": "Eldar Hasani",
      "userId": "00976023312627703360"
     },
     "user_tz": -120
    },
    "id": "e4df087a",
    "outputId": "4cf4b607-ecfa-4bce-fced-dfafddd2f8a9"
   },
   "outputs": [],
   "source": [
    "macrodata_de = pd.read_excel(r'/content/gdrive/My Drive/Colab Notebooks/macrodata_de.xlsx')\n",
    "macrodata_de.index = macrodata_de['Date']\n",
    "macrodata_de = macrodata_de.drop('Date', 1)"
   ]
  },
  {
   "cell_type": "code",
   "execution_count": null,
   "id": "97812cc7",
   "metadata": {
    "colab": {
     "base_uri": "https://localhost:8080/"
    },
    "executionInfo": {
     "elapsed": 590,
     "status": "ok",
     "timestamp": 1653043561071,
     "user": {
      "displayName": "Eldar Hasani",
      "userId": "00976023312627703360"
     },
     "user_tz": -120
    },
    "id": "97812cc7",
    "outputId": "ddcb431d-2cfc-4236-aefb-4102e9c9e844"
   },
   "outputs": [],
   "source": [
    "macrodata_cn = pd.read_excel(r'/content/gdrive/My Drive/Colab Notebooks/macrodata_cn.xlsx')\n",
    "macrodata_cn.index = macrodata_cn['Date']\n",
    "macrodata_cn = macrodata_cn.drop('Date', 1)"
   ]
  },
  {
   "cell_type": "code",
   "execution_count": null,
   "id": "2b200ea1",
   "metadata": {
    "colab": {
     "base_uri": "https://localhost:8080/"
    },
    "executionInfo": {
     "elapsed": 360,
     "status": "ok",
     "timestamp": 1653043563630,
     "user": {
      "displayName": "Eldar Hasani",
      "userId": "00976023312627703360"
     },
     "user_tz": -120
    },
    "id": "2b200ea1",
    "outputId": "682e0aeb-72c2-4052-9ce1-ad00bab81e66"
   },
   "outputs": [],
   "source": [
    "macrodata_jp = pd.read_excel(r'/content/gdrive/My Drive/Colab Notebooks/macrodata_jp.xlsx')\n",
    "macrodata_jp.index = macrodata_jp['Date']\n",
    "macrodata_jp = macrodata_jp.drop('Date', 1)"
   ]
  },
  {
   "cell_type": "code",
   "execution_count": null,
   "id": "bee3149f",
   "metadata": {
    "colab": {
     "base_uri": "https://localhost:8080/"
    },
    "executionInfo": {
     "elapsed": 552,
     "status": "ok",
     "timestamp": 1653043565451,
     "user": {
      "displayName": "Eldar Hasani",
      "userId": "00976023312627703360"
     },
     "user_tz": -120
    },
    "id": "bee3149f",
    "outputId": "3764c839-e383-4d11-c917-1f09b2dd2bb0"
   },
   "outputs": [],
   "source": [
    "macrodata_sk = pd.read_excel(r'/content/gdrive/My Drive/Colab Notebooks/macrodata_sk.xlsx')\n",
    "macrodata_sk.index = macrodata_sk['Date']\n",
    "macrodata_sk = macrodata_sk.drop('Date', 1)"
   ]
  },
  {
   "cell_type": "code",
   "execution_count": null,
   "id": "1afc47dd",
   "metadata": {
    "colab": {
     "base_uri": "https://localhost:8080/"
    },
    "executionInfo": {
     "elapsed": 321,
     "status": "ok",
     "timestamp": 1653043567057,
     "user": {
      "displayName": "Eldar Hasani",
      "userId": "00976023312627703360"
     },
     "user_tz": -120
    },
    "id": "1afc47dd",
    "outputId": "a7217744-e22c-48f4-c340-68de5166ac7a"
   },
   "outputs": [],
   "source": [
    "macrodata = pd.read_excel(r'/content/gdrive/My Drive/Colab Notebooks/macrodata.xlsx')\n",
    "macrodata.index = macrodata['Date']\n",
    "macrodata = macrodata.drop('Date', 1)"
   ]
  },
  {
   "cell_type": "markdown",
   "id": "9f46360f",
   "metadata": {
    "id": "9f46360f"
   },
   "source": [
    "# 3. Assetdaten analysieren"
   ]
  },
  {
   "cell_type": "markdown",
   "id": "0972aa37",
   "metadata": {
    "id": "0972aa37"
   },
   "source": [
    "## 3.1 NA's prüfen"
   ]
  },
  {
   "cell_type": "code",
   "execution_count": null,
   "id": "aaddd1be",
   "metadata": {
    "colab": {
     "base_uri": "https://localhost:8080/"
    },
    "executionInfo": {
     "elapsed": 218,
     "status": "ok",
     "timestamp": 1653043581738,
     "user": {
      "displayName": "Eldar Hasani",
      "userId": "00976023312627703360"
     },
     "user_tz": -120
    },
    "id": "aaddd1be",
    "outputId": "109782a8-c112-4ab7-c759-a18b0d241da7"
   },
   "outputs": [],
   "source": [
    "na_ckeck(assetdata)"
   ]
  },
  {
   "cell_type": "markdown",
   "id": "498185fc",
   "metadata": {
    "id": "498185fc"
   },
   "source": [
    "## 3.2 Übersicht mittels Liniendiagramm"
   ]
  },
  {
   "cell_type": "code",
   "execution_count": null,
   "id": "53e7761a",
   "metadata": {
    "colab": {
     "base_uri": "https://localhost:8080/",
     "height": 383
    },
    "executionInfo": {
     "elapsed": 236,
     "status": "error",
     "timestamp": 1653043584349,
     "user": {
      "displayName": "Eldar Hasani",
      "userId": "00976023312627703360"
     },
     "user_tz": -120
    },
    "id": "53e7761a",
    "outputId": "27e30d00-c4be-43dc-9b2e-380275421ce6"
   },
   "outputs": [],
   "source": [
    "import chart_studio\n",
    "import cufflinks as cf\n",
    "\n",
    "cf.set_config_file(offline = True)\n",
    "\n",
    "assetdata.normalize().iplot()"
   ]
  },
  {
   "cell_type": "markdown",
   "id": "76fe6f4b",
   "metadata": {
    "id": "76fe6f4b"
   },
   "source": [
    "## 3.3 Boxplot (Orginal)"
   ]
  },
  {
   "cell_type": "code",
   "execution_count": null,
   "id": "42b2fe86",
   "metadata": {
    "colab": {
     "base_uri": "https://localhost:8080/",
     "height": 1000
    },
    "executionInfo": {
     "elapsed": 3810,
     "status": "ok",
     "timestamp": 1653043609831,
     "user": {
      "displayName": "Eldar Hasani",
      "userId": "00976023312627703360"
     },
     "user_tz": -120
    },
    "id": "42b2fe86",
    "outputId": "4f7f014d-e045-41b0-ee66-d66d6764de6a"
   },
   "outputs": [],
   "source": [
    "import pandas as pd\n",
    "import numpy as np\n",
    "import seaborn\n",
    "import matplotlib.pyplot as plt\n",
    "\n",
    "for i in range(0,len(assetdata.columns)):\n",
    "    fig, ax = plt.subplots(figsize=(12,5))\n",
    "    seaborn.boxplot(x=assetdata.iloc[:,i].index.year, y= assetdata.iloc[:,i].values, data=assetdata, ax=ax)\n",
    "    ax.set_title(assetdata.columns[i])"
   ]
  },
  {
   "cell_type": "markdown",
   "id": "80c6309c",
   "metadata": {
    "id": "80c6309c"
   },
   "source": [
    "## 3.4 Deskriptive Statistik (Orginal)"
   ]
  },
  {
   "cell_type": "code",
   "execution_count": null,
   "id": "130e13e1",
   "metadata": {
    "colab": {
     "base_uri": "https://localhost:8080/",
     "height": 1000
    },
    "executionInfo": {
     "elapsed": 2543,
     "status": "ok",
     "timestamp": 1653043619193,
     "user": {
      "displayName": "Eldar Hasani",
      "userId": "00976023312627703360"
     },
     "user_tz": -120
    },
    "id": "130e13e1",
    "outputId": "5a8ed4b5-d2f4-41d7-a8fc-73fe26b2c2b9"
   },
   "outputs": [],
   "source": [
    "visual_describe(assetdata)"
   ]
  },
  {
   "cell_type": "markdown",
   "id": "ad890d54",
   "metadata": {
    "id": "ad890d54"
   },
   "source": [
    "## 3.5 Stationarität (Orginal)"
   ]
  },
  {
   "cell_type": "code",
   "execution_count": null,
   "id": "c0fed00f",
   "metadata": {
    "id": "c0fed00f"
   },
   "outputs": [],
   "source": [
    "#Optisch\n",
    "visual_stationarity(assetdata, 24)"
   ]
  },
  {
   "cell_type": "code",
   "execution_count": null,
   "id": "4ded58b2",
   "metadata": {
    "id": "4ded58b2"
   },
   "outputs": [],
   "source": [
    "#Mathematisch\n",
    "dickey_fuller(assetdata)"
   ]
  },
  {
   "cell_type": "markdown",
   "id": "2b32c903",
   "metadata": {
    "id": "2b32c903"
   },
   "source": [
    "## 3.6 Normalverteilung (Orginal)"
   ]
  },
  {
   "cell_type": "code",
   "execution_count": null,
   "id": "ff0029e1",
   "metadata": {
    "id": "ff0029e1"
   },
   "outputs": [],
   "source": [
    "#Optisch\n",
    "import seaborn as sns\n",
    "import matplotlib.pylab as plt\n",
    "\n",
    "for i in range(0,len(assetdata.columns)):\n",
    "    y = assetdata.iloc[: , i]    \n",
    "    sns.distplot(y)\n",
    "    plt.title(y.name)\n",
    "    plt.show()"
   ]
  },
  {
   "cell_type": "code",
   "execution_count": null,
   "id": "dcd4afb0",
   "metadata": {
    "id": "dcd4afb0"
   },
   "outputs": [],
   "source": [
    "#Mathematisch (Jarque Bera)\n",
    "jarque_bera(assetdata)"
   ]
  },
  {
   "cell_type": "code",
   "execution_count": null,
   "id": "a32de9be",
   "metadata": {
    "id": "a32de9be"
   },
   "outputs": [],
   "source": [
    "#Mathematisch (Shapiro Wilk)\n",
    "shapiro_wilk(assetdata)"
   ]
  },
  {
   "cell_type": "markdown",
   "id": "adb09cde",
   "metadata": {
    "id": "adb09cde"
   },
   "source": [
    "## 3.7 Kompisition (Orginal)"
   ]
  },
  {
   "cell_type": "code",
   "execution_count": null,
   "id": "a8263db1",
   "metadata": {
    "id": "a8263db1"
   },
   "outputs": [],
   "source": [
    "from statsmodels.tsa.seasonal import seasonal_decompose\n",
    "\n",
    "for i in range(0,len(assetdata.columns)):\n",
    "    decompose = seasonal_decompose(assetdata.iloc[:,i],model='additive', period=12)\n",
    "    decompose.plot()\n",
    "    plt.show()"
   ]
  },
  {
   "cell_type": "markdown",
   "id": "0436a9f6",
   "metadata": {
    "id": "0436a9f6"
   },
   "source": [
    "## 3.8 Log-Returns machen"
   ]
  },
  {
   "cell_type": "code",
   "execution_count": null,
   "id": "f7236470",
   "metadata": {
    "id": "f7236470"
   },
   "outputs": [],
   "source": [
    "import numpy as np\n",
    "assetdata_returns = (np.log(assetdata) - np.log(assetdata.shift(1))).dropna()"
   ]
  },
  {
   "cell_type": "markdown",
   "id": "9e2ba888",
   "metadata": {
    "id": "9e2ba888"
   },
   "source": [
    "## 3.9 Deskriptive Statistik (Returns)"
   ]
  },
  {
   "cell_type": "code",
   "execution_count": null,
   "id": "3e9d2870",
   "metadata": {
    "id": "3e9d2870"
   },
   "outputs": [],
   "source": [
    "visual_describe(assetdata_returns)"
   ]
  },
  {
   "cell_type": "markdown",
   "id": "4aefe93e",
   "metadata": {
    "id": "4aefe93e"
   },
   "source": [
    "## 3.10 Stationarität (Returns)"
   ]
  },
  {
   "cell_type": "code",
   "execution_count": null,
   "id": "4d176467",
   "metadata": {
    "id": "4d176467"
   },
   "outputs": [],
   "source": [
    "#Optisch\n",
    "visual_stationarity(assetdata_returns, 24)"
   ]
  },
  {
   "cell_type": "code",
   "execution_count": null,
   "id": "330a2078",
   "metadata": {
    "id": "330a2078"
   },
   "outputs": [],
   "source": [
    "#Mathematisch\n",
    "dickey_fuller(assetdata_returns)"
   ]
  },
  {
   "cell_type": "markdown",
   "id": "21f5e41b",
   "metadata": {
    "id": "21f5e41b"
   },
   "source": [
    "## 3.11 Normalverteilung (Returns)"
   ]
  },
  {
   "cell_type": "code",
   "execution_count": null,
   "id": "869c8ee3",
   "metadata": {
    "id": "869c8ee3"
   },
   "outputs": [],
   "source": [
    "#Optisch\n",
    "\n",
    "import seaborn as sns\n",
    "\n",
    "import matplotlib.pylab as plt\n",
    "for i in range(0,len(assetdata_returns.columns)):\n",
    "    y = assetdata_returns.iloc[: , i]    \n",
    "    sns.distplot(y)\n",
    "    plt.title(y.name)\n",
    "    plt.show()"
   ]
  },
  {
   "cell_type": "code",
   "execution_count": null,
   "id": "1a949741",
   "metadata": {
    "id": "1a949741"
   },
   "outputs": [],
   "source": [
    "#Mathematsch (Shapiro Wilk)\n",
    "shapiro_wilk(assetdata_returns)"
   ]
  },
  {
   "cell_type": "markdown",
   "id": "c973f392",
   "metadata": {
    "id": "c973f392"
   },
   "source": [
    "## 3.12 Boxplot (Returns)"
   ]
  },
  {
   "cell_type": "code",
   "execution_count": null,
   "id": "537613c9",
   "metadata": {
    "id": "537613c9"
   },
   "outputs": [],
   "source": [
    "import pandas as pd\n",
    "import numpy as np\n",
    "import seaborn\n",
    "import matplotlib.pyplot as plt\n",
    "\n",
    "for i in range(0,len(assetdata_returns.columns)):\n",
    "    fig, ax = plt.subplots(figsize=(12,5))\n",
    "    seaborn.boxplot(x=assetdata_returns.iloc[:,i].index.year, y= assetdata_returns.iloc[:,i].values, data=assetdata, ax=ax)\n",
    "    ax.set_title(assetdata_returns.columns[i])"
   ]
  },
  {
   "cell_type": "markdown",
   "id": "c26e5921",
   "metadata": {
    "id": "c26e5921"
   },
   "source": [
    "## 3.13 Kompositionen (Returns)"
   ]
  },
  {
   "cell_type": "code",
   "execution_count": null,
   "id": "7adf1b0e",
   "metadata": {
    "id": "7adf1b0e"
   },
   "outputs": [],
   "source": [
    "from statsmodels.tsa.seasonal import seasonal_decompose\n",
    "\n",
    "for i in range(0,len(assetdata_returns.columns)):\n",
    "    decompose = seasonal_decompose(assetdata_returns.iloc[:,i],model='additive', period=12)\n",
    "    decompose.plot()\n",
    "    plt.show()"
   ]
  },
  {
   "cell_type": "markdown",
   "id": "75a9596f",
   "metadata": {
    "id": "75a9596f"
   },
   "source": [
    "# 4. Makrodaten analysieren"
   ]
  },
  {
   "cell_type": "markdown",
   "id": "1ca2c423",
   "metadata": {
    "id": "1ca2c423"
   },
   "source": [
    "## 4.1 NA's prüfen"
   ]
  },
  {
   "cell_type": "code",
   "execution_count": null,
   "id": "ab41a6a2",
   "metadata": {
    "id": "ab41a6a2"
   },
   "outputs": [],
   "source": [
    "na_ckeck(macrodata)"
   ]
  },
  {
   "cell_type": "markdown",
   "id": "7b7eb727",
   "metadata": {
    "id": "7b7eb727"
   },
   "source": [
    "## 4.2 Multikollinearität"
   ]
  },
  {
   "cell_type": "code",
   "execution_count": null,
   "id": "dde6d50f",
   "metadata": {
    "id": "dde6d50f"
   },
   "outputs": [],
   "source": [
    "corr_us = macrodata_us.corr()\n",
    "corr_nl = macrodata_nl.corr()\n",
    "corr_eu = macrodata_eu.corr()\n",
    "corr_ch = macrodata_ch.corr()\n",
    "corr_de = macrodata_de.corr()\n",
    "corr_cn = macrodata_cn.corr()\n",
    "corr_jp = macrodata_jp.corr()\n",
    "corr_sk = macrodata_sk.corr()"
   ]
  },
  {
   "cell_type": "code",
   "execution_count": null,
   "id": "a5be0431",
   "metadata": {
    "id": "a5be0431"
   },
   "outputs": [],
   "source": [
    "import seaborn as sns\n",
    "sns.heatmap(corr_us, xticklabels=corr_us.columns.values,yticklabels=corr_us.columns.values)"
   ]
  },
  {
   "cell_type": "code",
   "execution_count": null,
   "id": "eef85330",
   "metadata": {
    "id": "eef85330"
   },
   "outputs": [],
   "source": [
    "sns.heatmap(corr_nl, xticklabels=corr_nl.columns.values,yticklabels=corr_nl.columns.values)"
   ]
  },
  {
   "cell_type": "code",
   "execution_count": null,
   "id": "549fd667",
   "metadata": {
    "id": "549fd667"
   },
   "outputs": [],
   "source": [
    "sns.heatmap(corr_eu, xticklabels=corr_eu.columns.values,yticklabels=corr_eu.columns.values)"
   ]
  },
  {
   "cell_type": "code",
   "execution_count": null,
   "id": "6c6d59a5",
   "metadata": {
    "id": "6c6d59a5"
   },
   "outputs": [],
   "source": [
    "sns.heatmap(corr_ch, xticklabels=corr_ch.columns.values,yticklabels=corr_ch.columns.values)"
   ]
  },
  {
   "cell_type": "code",
   "execution_count": null,
   "id": "4dd64850",
   "metadata": {
    "id": "4dd64850"
   },
   "outputs": [],
   "source": [
    "sns.heatmap(corr_de, xticklabels=corr_de.columns.values,yticklabels=corr_de.columns.values)"
   ]
  },
  {
   "cell_type": "code",
   "execution_count": null,
   "id": "1817afbf",
   "metadata": {
    "id": "1817afbf"
   },
   "outputs": [],
   "source": [
    "sns.heatmap(corr_cn, xticklabels=corr_cn.columns.values,yticklabels=corr_cn.columns.values)"
   ]
  },
  {
   "cell_type": "code",
   "execution_count": null,
   "id": "e17b89c5",
   "metadata": {
    "id": "e17b89c5"
   },
   "outputs": [],
   "source": [
    "sns.heatmap(corr_jp, xticklabels=corr_jp.columns.values,yticklabels=corr_jp.columns.values)"
   ]
  },
  {
   "cell_type": "code",
   "execution_count": null,
   "id": "d1144ae8",
   "metadata": {
    "id": "d1144ae8"
   },
   "outputs": [],
   "source": [
    "sns.heatmap(corr_sk, xticklabels=corr_sk.columns.values,yticklabels=corr_sk.columns.values)"
   ]
  },
  {
   "cell_type": "markdown",
   "id": "5c4a1f80",
   "metadata": {
    "id": "5c4a1f80"
   },
   "source": [
    "## 4.3 Boxplot"
   ]
  },
  {
   "cell_type": "code",
   "execution_count": null,
   "id": "10a8e2dd",
   "metadata": {
    "id": "10a8e2dd"
   },
   "outputs": [],
   "source": [
    "boxplot(macrodata_us.dropna())"
   ]
  },
  {
   "cell_type": "code",
   "execution_count": null,
   "id": "366bd71b",
   "metadata": {
    "id": "366bd71b"
   },
   "outputs": [],
   "source": [
    "boxplot(macrodata_nl.dropna())"
   ]
  },
  {
   "cell_type": "code",
   "execution_count": null,
   "id": "904c408c",
   "metadata": {
    "id": "904c408c"
   },
   "outputs": [],
   "source": [
    "boxplot(macrodata_eu.dropna())"
   ]
  },
  {
   "cell_type": "code",
   "execution_count": null,
   "id": "8e5bb61a",
   "metadata": {
    "id": "8e5bb61a"
   },
   "outputs": [],
   "source": [
    "boxplot(macrodata_ch.dropna())"
   ]
  },
  {
   "cell_type": "code",
   "execution_count": null,
   "id": "3254c630",
   "metadata": {
    "id": "3254c630"
   },
   "outputs": [],
   "source": [
    "boxplot(macrodata_de.dropna())"
   ]
  },
  {
   "cell_type": "code",
   "execution_count": null,
   "id": "fa314034",
   "metadata": {
    "id": "fa314034"
   },
   "outputs": [],
   "source": [
    "boxplot(macrodata_cn.dropna())"
   ]
  },
  {
   "cell_type": "code",
   "execution_count": null,
   "id": "e339f6dc",
   "metadata": {
    "id": "e339f6dc"
   },
   "outputs": [],
   "source": [
    "boxplot(macrodata_jp.dropna())"
   ]
  },
  {
   "cell_type": "code",
   "execution_count": null,
   "id": "9b5a65c9",
   "metadata": {
    "id": "9b5a65c9"
   },
   "outputs": [],
   "source": [
    "boxplot(macrodata_sk.dropna())"
   ]
  },
  {
   "cell_type": "markdown",
   "id": "a663a70b",
   "metadata": {
    "id": "a663a70b"
   },
   "source": [
    "## 4.4 Deskriptive Statistik"
   ]
  },
  {
   "cell_type": "code",
   "execution_count": null,
   "id": "dbffe598",
   "metadata": {
    "id": "dbffe598"
   },
   "outputs": [],
   "source": [
    "macrodata.describe()"
   ]
  },
  {
   "cell_type": "markdown",
   "id": "6a03372a",
   "metadata": {
    "id": "6a03372a"
   },
   "source": [
    "## 4.5 Stationarität (Orginal)"
   ]
  },
  {
   "cell_type": "code",
   "execution_count": null,
   "id": "ab6b3476",
   "metadata": {
    "id": "ab6b3476"
   },
   "outputs": [],
   "source": [
    "dickey_fuller(macrodata)"
   ]
  },
  {
   "cell_type": "markdown",
   "id": "9c9449b0",
   "metadata": {
    "id": "9c9449b0"
   },
   "source": [
    "## 4.6 Normalverteilung (Orginal)"
   ]
  },
  {
   "cell_type": "code",
   "execution_count": null,
   "id": "5da409fa",
   "metadata": {
    "id": "5da409fa"
   },
   "outputs": [],
   "source": [
    "shapiro_wilk(macrodata)"
   ]
  },
  {
   "cell_type": "markdown",
   "id": "8e186e63",
   "metadata": {
    "id": "8e186e63"
   },
   "source": [
    "## 4.7 Stationarität (Returns)"
   ]
  },
  {
   "cell_type": "code",
   "execution_count": null,
   "id": "eeadc6da",
   "metadata": {
    "id": "eeadc6da"
   },
   "outputs": [],
   "source": [
    "macrodata_returns = logtransform(macrodata)"
   ]
  },
  {
   "cell_type": "code",
   "execution_count": null,
   "id": "e823889b",
   "metadata": {
    "id": "e823889b"
   },
   "outputs": [],
   "source": [
    "dickey_fuller(macrodata_returns)\n",
    "#KRUNR=ECI ist nicht stationär also Raus."
   ]
  },
  {
   "cell_type": "code",
   "execution_count": null,
   "id": "876ba8f2",
   "metadata": {
    "id": "876ba8f2"
   },
   "outputs": [],
   "source": [
    "macrodata_returns = macrodata_returns.drop('KRUNR=ECI', 1)"
   ]
  },
  {
   "cell_type": "code",
   "execution_count": null,
   "id": "fc305e1c",
   "metadata": {
    "id": "fc305e1c"
   },
   "outputs": [],
   "source": [
    "dickey_fuller(macrodata_returns)"
   ]
  },
  {
   "cell_type": "markdown",
   "id": "10ae9d74",
   "metadata": {
    "id": "10ae9d74"
   },
   "source": [
    "## 4.8 Normalverteilung (Returns)"
   ]
  },
  {
   "cell_type": "code",
   "execution_count": null,
   "id": "d224579c",
   "metadata": {
    "id": "d224579c"
   },
   "outputs": [],
   "source": [
    "shapiro_wilk(macrodata_returns)"
   ]
  },
  {
   "cell_type": "markdown",
   "id": "fac8a90a",
   "metadata": {
    "id": "fac8a90a"
   },
   "source": [
    "# 5. Modellieren"
   ]
  },
  {
   "cell_type": "markdown",
   "id": "2f3b24a8",
   "metadata": {
    "id": "2f3b24a8"
   },
   "source": [
    "## 5.1 Zeitreihe laggen"
   ]
  },
  {
   "cell_type": "code",
   "execution_count": null,
   "id": "71384f87",
   "metadata": {
    "id": "71384f87"
   },
   "outputs": [],
   "source": [
    "assetdata_returns[\"Apple Inc Lag\"] = assetdata_returns['Apple Inc'].shift(1)\n",
    "assetdata_returns[\"NVIDIA Corp Lag\"] = assetdata_returns['NVIDIA Corp'].shift(1)\n",
    "assetdata_returns[\"Alphabet Inc Lag\"] = assetdata_returns['Alphabet Inc'].shift(1)\n",
    "assetdata_returns[\"Cisco Systems Inc Lag\"] = assetdata_returns['Cisco Systems Inc'].shift(1)\n",
    "assetdata_returns[\"ASML Holding NV Lag\"] = assetdata_returns['ASML Holding NV'].shift(1)\n",
    "assetdata_returns[\"SAP SE Lag\"] = assetdata_returns['SAP SE'].shift(1)\n",
    "assetdata_returns[\"Logitech International SA Lag\"] = assetdata_returns['Logitech International SA'].shift(1)\n",
    "assetdata_returns[\"Tencent Holdings Ltd Lag\"] = assetdata_returns['Tencent Holdings Ltd'].shift(1)\n",
    "assetdata_returns[\"Samsung Electronics Co Ltd Lag\"] = assetdata_returns['Samsung Electronics Co Ltd'].shift(1)\n",
    "assetdata_returns[\"Sony Group Corp Lag\"] = assetdata_returns['Sony Group Corp'].shift(1)"
   ]
  },
  {
   "cell_type": "markdown",
   "id": "474f3caa",
   "metadata": {
    "id": "474f3caa"
   },
   "source": [
    "## 5.2 Makromatrix erstellen (erste Modelle)"
   ]
  },
  {
   "cell_type": "code",
   "execution_count": null,
   "id": "dd40aa0e",
   "metadata": {
    "id": "dd40aa0e"
   },
   "outputs": [],
   "source": [
    "#Anzahl Makrodaten pro Land\n",
    "country = {'US': [8], 'NL': [6], 'EU': [8], 'CH': [6], 'DE': [7], 'CN': [4], 'JP': [5], 'SK': [5]}\n",
    "anz_macrodata_country = pd.DataFrame(data=country)\n",
    "anz_macrodata_country"
   ]
  },
  {
   "cell_type": "code",
   "execution_count": null,
   "id": "fb58d5d8",
   "metadata": {
    "id": "fb58d5d8"
   },
   "outputs": [],
   "source": [
    "#Anzahl Makrodaten pro Asset\n",
    "asset = {'Apple Inc': [0,8,8], 'NVIDIA Corp': [0,8,8], 'Alphabet Inc': [0,8,8], 'Cisco Systems Inc': [0,8,8], 'ASML Holding NV': [8,14,6], 'SAP SE': [28,35,7], 'Logitech International SA': [22,28,6], 'Tencent Holdings Ltd': [35,39,4], 'Samsung Electronics Co Ltd': [39,44,5], 'Sony Group Corp': [44,49,5]}\n",
    "anz_macrodata_asset = pd.DataFrame(data=asset, index = ['Index von', 'Index bis', 'Anzahl Werte'])\n",
    "anz_macrodata_asset"
   ]
  },
  {
   "cell_type": "markdown",
   "id": "78585274",
   "metadata": {
    "id": "78585274"
   },
   "source": [
    "## 5.3 Regressionsmodelle erstellen (erstes Modell)"
   ]
  },
  {
   "cell_type": "code",
   "execution_count": null,
   "id": "f8da1661",
   "metadata": {
    "id": "f8da1661"
   },
   "outputs": [],
   "source": [
    "import statsmodels.api as sm\n",
    "\n",
    "modellenamen = ['fit_apple', 'fit_nvidia', 'fit_alphabet', 'fit_cisco', 'fit_asml', 'fit_sap', 'fit_logitech', 'fit_tencent', 'fit_samsung', 'fit_sony']\n",
    "    \n",
    "for i in range(0,len(assetdata_returns.columns)-10):\n",
    "    #Assetdaten\n",
    "    y = assetdata_returns.iloc[:,i]\n",
    "    x_1 = assetdata_returns.iloc[:,i+10].to_frame()\n",
    "    \n",
    "    #Macrodaten\n",
    "    von = anz_macrodata_asset.iloc[0,i]\n",
    "    bis = anz_macrodata_asset.iloc[1,i]\n",
    "    x_2 = macrodata_returns.iloc[1:,von:bis]\n",
    "    \n",
    "    x = x_1.join(x_2, how = 'left')\n",
    "    x = sm.add_constant(x)\n",
    "        \n",
    "    exec(f'{modellenamen[i]} = sm.OLS(y.astype(float),x.astype(float), missing = \"drop\").fit()')"
   ]
  },
  {
   "cell_type": "code",
   "execution_count": null,
   "id": "fe576745",
   "metadata": {
    "id": "fe576745"
   },
   "outputs": [],
   "source": [
    "import statsmodels.api as sm\n",
    "\n",
    "modellenamen_eu = ['fit_asml_eu', 'fit_sap_eu', 'fit_logitech_eu']\n",
    "    \n",
    "for i in range(3,6):\n",
    "    #Assetdaten\n",
    "    y = assetdata_returns.iloc[:,i]\n",
    "    x_1 = assetdata_returns.iloc[:,i+10].to_frame()\n",
    "    \n",
    "    #Macrodaten\n",
    "    x_2 = macrodata_returns.iloc[1:,16:25]\n",
    "    \n",
    "    x = x_1.join(x_2, how = 'left')\n",
    "    x = sm.add_constant(x)\n",
    "        \n",
    "    exec(f'{modellenamen_eu[i-3]} = sm.OLS(y.astype(float),x.astype(float), missing = \"drop\").fit()')"
   ]
  },
  {
   "cell_type": "markdown",
   "id": "027f12b9",
   "metadata": {
    "id": "027f12b9"
   },
   "source": [
    "## 5.4 Variablensignifikant prüfen (erstes Modell)"
   ]
  },
  {
   "cell_type": "code",
   "execution_count": null,
   "id": "e9b205f9",
   "metadata": {
    "id": "e9b205f9"
   },
   "outputs": [],
   "source": [
    "modellenamen = ['fit_apple', 'fit_nvidia', 'fit_alphabet', 'fit_cisco', 'fit_asml', 'fit_sap', 'fit_logitech', 'fit_tencent', 'fit_samsung', 'fit_sony', 'fit_asml_eu', 'fit_sap_eu', 'fit_logitech_eu']\n",
    "\n",
    "for i in range(0,len(modellenamen)):\n",
    "    exec(f'print({modellenamen[i]}.summary())')"
   ]
  },
  {
   "cell_type": "markdown",
   "id": "cc0f5718",
   "metadata": {
    "id": "cc0f5718"
   },
   "source": [
    "## 5.5 Variablenselektion machen (R-Studio)"
   ]
  },
  {
   "cell_type": "code",
   "execution_count": null,
   "id": "a59f0537",
   "metadata": {
    "id": "a59f0537"
   },
   "outputs": [],
   "source": [
    "total = assetdata_returns.join(macrodata_returns[1:120], how = 'left')"
   ]
  },
  {
   "cell_type": "code",
   "execution_count": null,
   "id": "d8b49f93",
   "metadata": {
    "id": "d8b49f93"
   },
   "outputs": [],
   "source": [
    "modellenamen = ['fit_apple', 'fit_nvidia', 'fit_alphabet', 'fit_cisco', 'fit_asml', 'fit_sap', 'fit_logitech', 'fit_tencent', 'fit_samsung', 'fit_sony', 'fit_asml_eu', 'fit_sap_eu', 'fit_logitech_eu']\n",
    "modelle = [\"Apple Inc ~ USGDPF=ECI\"\n",
    "           ,\"NVIDIA Corp ~ USGDPF=ECI\"\n",
    "           ,\"Alphabet Inc ~ USUNR=ECI\"\n",
    "           ,\"Cisco Systems Inc ~ Cisco Systems Inc Lag + USRSL=ECI + USIP=ECI\"\n",
    "           ,\"ASML Holding NV ~ XTIMVA01NLM667S\"\n",
    "           ,\"SAP SE ~ DEGDP=ECI\"\n",
    "           ,\"Logitech International SA ~ Logitech International SA Lag\"\n",
    "           ,\"Tencent Holdings Ltd ~ 1\"\n",
    "           ,\"Samsung Electronics Co Ltd ~ 1\"\n",
    "           ,\"Sony Group Corp ~ 1\"\n",
    "           ,\"ASML Holding NV ~ EUPPI=ECI\"\n",
    "           ,\"SAP SE ~ EUGDP=ECI\"\n",
    "           ,\"Logitech International SA ~ Logitech International SA\"\n",
    "          ]\n",
    "\n",
    "modelle_selektiert = pd.DataFrame(data=modelle, index = modellenamen)\n",
    "modelle_selektiert"
   ]
  },
  {
   "cell_type": "markdown",
   "id": "9d4a3c73",
   "metadata": {
    "id": "9d4a3c73"
   },
   "source": [
    "## 5.6 Regressionsmodelle erstellen (selektiertes Modell)"
   ]
  },
  {
   "cell_type": "code",
   "execution_count": null,
   "id": "0e9b9c57",
   "metadata": {
    "id": "0e9b9c57"
   },
   "outputs": [],
   "source": [
    "y_werte = assetdata_returns.iloc[:,[0,1,2,3,4,4,5,5,6]]\n",
    "rename = ['Apple Inc', 'NVIDIA Corp', 'Alphabet Inc', 'Cisco Systems Inc',\n",
    "       'ASML Holding NV', 'ASML Holding NV EU', 'SAP SE', 'SAP SE EU',\n",
    "       'Logitech International SA']\n",
    "y_werte.columns = rename"
   ]
  },
  {
   "cell_type": "code",
   "execution_count": null,
   "id": "7d254976",
   "metadata": {
    "id": "7d254976"
   },
   "outputs": [],
   "source": [
    "x_werte = macrodata_returns[['USGDPF=ECI', 'USUNR=ECI']]\n",
    "x_werte = x_werte.join(assetdata_returns.iloc[:,13], how = 'left')\n",
    "x_werte = x_werte.join(macrodata_returns[['USRSL=ECI', 'USIP=ECI']], how = 'left')\n",
    "x_werte = x_werte.join(macrodata_returns['XTIMVA01NLM667S'], how = 'left')\n",
    "x_werte = x_werte.join(macrodata_returns['EUPPI=ECI'], how = 'left')\n",
    "x_werte = x_werte.join(macrodata_returns['DEGDP=ECI'], how = 'left')\n",
    "x_werte = x_werte.join(macrodata_returns['EUGDP=ECI'], how = 'left')\n",
    "x_werte = x_werte.join(assetdata_returns.iloc[:,16], how = 'left')"
   ]
  },
  {
   "cell_type": "code",
   "execution_count": null,
   "id": "4bdb4d5c",
   "metadata": {
    "id": "4bdb4d5c"
   },
   "outputs": [],
   "source": [
    "asset = {'Apple Inc': [0,1,1],'NVIDIA Corp': [0,1,1], 'Alphabet Inc': [1,2,1], 'Cisco Systems Inc': [2,5,3], 'ASML Holding NV': [5,6,0], 'ASML Holding NV EU': [6,7,1],'SAP SE': [7,8,0],'SAP SE EU': [8,9,0], 'Logitech International SA': [9,10,1]}\n",
    "anz_x_werte = pd.DataFrame(data=asset, index = ['Index von', 'Index bis', 'Anzahl'])"
   ]
  },
  {
   "cell_type": "code",
   "execution_count": null,
   "id": "039c52a4",
   "metadata": {
    "id": "039c52a4"
   },
   "outputs": [],
   "source": [
    "import statsmodels.api as sm\n",
    "\n",
    "modellenamen_selektiert = ['fit_apple_select','fit_nvidia_select', 'fit_alphabet_select', 'fit_cisco_select', 'fit_asml_select','fit_asml_eu_select','fit_sap_select','fit_sap_eu_select', 'fit_logitech_select']\n",
    "    \n",
    "for i in range(0,len(y_werte.columns)):\n",
    "    y = y_werte.iloc[:,i]\n",
    "    \n",
    "    von = anz_x_werte.iloc[0,i]\n",
    "    bis = anz_x_werte.iloc[1,i]\n",
    "    \n",
    "    x = x_werte.iloc[1:,von:bis]\n",
    "    \n",
    "    x = sm.add_constant(x)\n",
    "        \n",
    "    exec(f'{modellenamen_selektiert[i]} = sm.OLS(y.astype(float),x.astype(float), missing = \"drop\").fit()')"
   ]
  },
  {
   "cell_type": "markdown",
   "id": "5d0b61df",
   "metadata": {
    "id": "5d0b61df"
   },
   "source": [
    "## 5.7 Variablensignifikant prüfen (selektiertes Modell)"
   ]
  },
  {
   "cell_type": "code",
   "execution_count": null,
   "id": "91193171",
   "metadata": {
    "id": "91193171"
   },
   "outputs": [],
   "source": [
    "modellenamen_selektiert = ['fit_apple_select','fit_nvidia_select', 'fit_alphabet_select', 'fit_cisco_select', 'fit_asml_select','fit_asml_eu_select','fit_sap_select','fit_sap_eu_select', 'fit_logitech_select']\n",
    "\n",
    "for i in range(0,len(modellenamen_selektiert)):\n",
    "    exec(f'print({modellenamen_selektiert[i]}.summary())')"
   ]
  },
  {
   "cell_type": "markdown",
   "id": "0bff3e7e",
   "metadata": {
    "id": "0bff3e7e"
   },
   "source": [
    "## 5.8 adj. R^2 vergleichen"
   ]
  },
  {
   "cell_type": "code",
   "execution_count": null,
   "id": "a0c9cdd7",
   "metadata": {
    "id": "a0c9cdd7"
   },
   "outputs": [],
   "source": [
    "modellenamen_selektiert = ['fit_apple_select','fit_nvidia_select', 'fit_alphabet_select', 'fit_cisco_select', 'fit_asml_select','fit_asml_eu_select','fit_sap_select','fit_sap_eu_select', 'fit_logitech_select']\n",
    "\n",
    "adjusted_r2 = [\n",
    "                fit_apple_select.rsquared_adj\n",
    "                ,fit_nvidia_select.rsquared_adj\n",
    "                ,fit_alphabet_select.rsquared_adj\n",
    "                ,fit_cisco_select.rsquared_adj\n",
    "                ,fit_asml_select.rsquared_adj\n",
    "                ,fit_sap_select.rsquared_adj\n",
    "                ,fit_logitech_select.rsquared_adj\n",
    "                ,fit_asml_eu_select.rsquared_adj\n",
    "                ,fit_sap_eu_select.rsquared_adj\n",
    "            ]\n",
    "\n",
    "modelle_adjusted_r2 = pd.DataFrame(data=adjusted_r2, index = modellenamen_selektiert, columns = ['Adj. R-squared'])"
   ]
  },
  {
   "cell_type": "code",
   "execution_count": null,
   "id": "fcc39ce3",
   "metadata": {
    "id": "fcc39ce3"
   },
   "outputs": [],
   "source": [
    "sns.catplot(data = modelle_adjusted_r2.transpose(), kind = \"point\", linestyles = \"-\" ,aspect = 2.8)"
   ]
  },
  {
   "cell_type": "markdown",
   "id": "527141ad",
   "metadata": {
    "id": "527141ad"
   },
   "source": [
    "## 5.9 Residuen analysieren"
   ]
  },
  {
   "cell_type": "code",
   "execution_count": null,
   "id": "38081b78",
   "metadata": {
    "id": "38081b78"
   },
   "outputs": [],
   "source": [
    "modellenamen_selektiert = ['fit_apple_select','fit_nvidia_select', 'fit_alphabet_select', 'fit_cisco_select', 'fit_asml_select','fit_asml_eu_select','fit_sap_select','fit_sap_eu_select', 'fit_logitech_select']\n",
    "\n",
    "residuals = fit_apple_select.resid.to_frame().join(fit_nvidia_select.resid.to_frame(),how = 'left', rsuffix = 'nvidia')\n",
    "residuals = residuals.join(fit_alphabet_select.resid.to_frame(),how = 'left')\n",
    "residuals = residuals.join(fit_cisco_select.resid.to_frame(),how = 'left', rsuffix = 'cisco')\n",
    "residuals = residuals.join(fit_asml_select.resid.to_frame(),how = 'left')\n",
    "residuals = residuals.join(fit_sap_select.resid.to_frame(),how = 'left', rsuffix = 'sap')\n",
    "residuals = residuals.join(fit_logitech_select.resid.to_frame(),how = 'left')\n",
    "residuals = residuals.join(fit_asml_eu_select.resid.to_frame(),how = 'left', rsuffix = 'asml_eu')\n",
    "residuals = residuals.join(fit_sap_eu_select.resid.to_frame(),how = 'left')\n",
    "\n",
    "residuals.columns = modellenamen_selektiert"
   ]
  },
  {
   "cell_type": "markdown",
   "id": "9976f0d4",
   "metadata": {
    "id": "9976f0d4"
   },
   "source": [
    "### 5.9.1 Normalverteilung"
   ]
  },
  {
   "cell_type": "code",
   "execution_count": null,
   "id": "5dbc2ebe",
   "metadata": {
    "id": "5dbc2ebe"
   },
   "outputs": [],
   "source": [
    "#Mathematisch\n",
    "jarque_bera_res(residuals)"
   ]
  },
  {
   "cell_type": "code",
   "execution_count": null,
   "id": "ae62e589",
   "metadata": {
    "id": "ae62e589"
   },
   "outputs": [],
   "source": [
    "#Optisch (QQ Plot)\n",
    "import statsmodels.api as smi\n",
    "import pylab\n",
    "import matplotlib.pyplot as plt\n",
    "\n",
    "for i in range(0,len(residuals.columns)):\n",
    "    x = residuals.iloc[: , i]\n",
    "    smi.qqplot(x, line = \"r\")\n",
    "    plt.title(x.name)\n",
    "    pylab.show()"
   ]
  },
  {
   "cell_type": "code",
   "execution_count": null,
   "id": "6b8c4801",
   "metadata": {
    "id": "6b8c4801"
   },
   "outputs": [],
   "source": [
    "residuals = residuals.drop(['fit_nvidia_select','fit_asml_eu_select' ,'fit_logitech_select'], 1)"
   ]
  },
  {
   "cell_type": "markdown",
   "id": "e26d5127",
   "metadata": {
    "id": "e26d5127"
   },
   "source": [
    "### 5.9.2 Heteroskedastizität"
   ]
  },
  {
   "cell_type": "code",
   "execution_count": null,
   "id": "7d9dbda0",
   "metadata": {
    "id": "7d9dbda0"
   },
   "outputs": [],
   "source": [
    "#Mathematisch\n",
    "from statsmodels.compat import lzip\n",
    "import statsmodels.stats.api as sms\n",
    "\n",
    "breusch_apple = sms.het_breuschpagan(fit_apple_select.resid, fit_apple_select.model.exog)[1]\n",
    "breusch_alphabet = sms.het_breuschpagan(fit_alphabet_select.resid, fit_alphabet_select.model.exog)[1]\n",
    "breusch_cisco = sms.het_breuschpagan(fit_cisco_select.resid, fit_cisco_select.model.exog)[1]\n",
    "breusch_asml = sms.het_breuschpagan(fit_asml_select.resid, fit_asml_select.model.exog)[1]\n",
    "breusch_sap = sms.het_breuschpagan(fit_sap_select.resid, fit_sap_select.model.exog)[1]\n",
    "breusch_sap_eu = sms.het_breuschpagan(fit_sap_eu_select.resid, fit_sap_eu_select.model.exog)[1]\n",
    "\n",
    "\n",
    "breusch = pd.DataFrame([breusch_apple,breusch_alphabet,breusch_cisco,breusch_asml,breusch_sap_eu,breusch_sap], index = residuals.columns)\n",
    "\n",
    "for i in range(0,len(residuals.columns)):\n",
    "    if breusch.iloc[i,0] <= 0.05:\n",
    "        print(\"Der p-Value von \" + str(breusch.index[i]) + \" ist %f\" % breusch.iloc[i,0] + \". Somit herrscht Heteroskedastizität.\")\n",
    "        \n",
    "print(\"\")\n",
    "print(\"Der Rest ist gut.\")"
   ]
  },
  {
   "cell_type": "code",
   "execution_count": null,
   "id": "4a17d73b",
   "metadata": {
    "id": "4a17d73b"
   },
   "outputs": [],
   "source": [
    "#Optisch\n",
    "import pandas as pd\n",
    "import matplotlib.pylab as plt\n",
    "%matplotlib inline\n",
    "\n",
    "for i in range(0,len(residuals.columns)):\n",
    "    x = residuals.iloc[:,i]\n",
    "    x = np.reshape(x, len(x))\n",
    "\n",
    "    plt.plot(x, color = 'black',label = 'Residuals')\n",
    "    plt.title(residuals.columns[i])\n",
    "    plt.show()"
   ]
  },
  {
   "cell_type": "code",
   "execution_count": null,
   "id": "d11c2922",
   "metadata": {
    "id": "d11c2922"
   },
   "outputs": [],
   "source": [
    "residuals = residuals.drop(['fit_sap_select','fit_sap_eu_select'], 1)"
   ]
  },
  {
   "cell_type": "markdown",
   "id": "2059fb80",
   "metadata": {
    "id": "2059fb80"
   },
   "source": [
    "### 5.9.3 Autokorrelation"
   ]
  },
  {
   "cell_type": "code",
   "execution_count": null,
   "id": "2efd8a82",
   "metadata": {
    "id": "2efd8a82",
    "scrolled": true
   },
   "outputs": [],
   "source": [
    "from statsmodels.stats.stattools import durbin_watson\n",
    "\n",
    "for i in range(0,len(residuals.columns)):\n",
    "    durbin = durbin_watson(residuals.iloc[:,i].dropna())\n",
    "    if durbin > 1.5 and durbin < 2.5:\n",
    "        print(\"Der Teststatistik von \" + str(residuals.columns[i]) + \" ist %f\" % durbin + \". Somit herrscht keine Autokorrelation.\")"
   ]
  },
  {
   "cell_type": "markdown",
   "id": "df3a0e23",
   "metadata": {
    "id": "df3a0e23"
   },
   "source": [
    "### 5.9.4 MSE"
   ]
  },
  {
   "cell_type": "code",
   "execution_count": null,
   "id": "5b11aa66",
   "metadata": {
    "id": "5b11aa66"
   },
   "outputs": [],
   "source": [
    "y_true = assetdata_returns.iloc[:,[0,2,3,4]]"
   ]
  },
  {
   "cell_type": "code",
   "execution_count": null,
   "id": "208225a0",
   "metadata": {
    "id": "208225a0"
   },
   "outputs": [],
   "source": [
    "y_hat_apple = fit_apple_select.predict()\n",
    "y_hat_apple = pd.DataFrame(y_hat_apple)\n",
    "\n",
    "y_hat_alphabet = fit_alphabet_select.predict()\n",
    "y_hat_alphabet = pd.DataFrame(y_hat_alphabet)\n",
    "\n",
    "y_hat_cisco = fit_cisco_select.predict()\n",
    "y_hat_cisco = pd.DataFrame(y_hat_cisco)\n",
    "\n",
    "y_hat_asml = fit_asml_select.predict()\n",
    "y_hat_asml = pd.DataFrame(y_hat_asml)\n",
    "\n",
    "y_hat = y_hat_apple.join(y_hat_alphabet, how = 'left', rsuffix = '1').join(y_hat_cisco, how = 'left').join(y_hat_asml, how = 'left', rsuffix = '1')\n",
    "y_hat.index = y_true.index\n",
    "\n",
    "y_hat.columns = ['Apple Inc Predict', 'Alphabet Inc Predict', 'Cisco Systems Inc Predict', 'ASML Holding NV Predict']"
   ]
  },
  {
   "cell_type": "code",
   "execution_count": null,
   "id": "8da9071e",
   "metadata": {
    "id": "8da9071e"
   },
   "outputs": [],
   "source": [
    "#Optiscch\n",
    "import pandas as pd\n",
    "import matplotlib.pylab as plt\n",
    "%matplotlib inline\n",
    "\n",
    "for i in range(0,len(y_true.columns)):\n",
    "    x = y_true.iloc[:,i]\n",
    "    x = np.reshape(x, len(x))\n",
    "    y = y_hat.iloc[:,i]\n",
    "    y = np.reshape(y, len(y))\n",
    "\n",
    "    plt.plot(x, color = 'black',label = y_true.columns[i])\n",
    "    plt.plot(y, color = 'red', label = y_hat.columns[i])\n",
    "    plt.legend(loc = 'best')\n",
    "    plt.show()"
   ]
  },
  {
   "cell_type": "code",
   "execution_count": null,
   "id": "96919c1c",
   "metadata": {
    "id": "96919c1c"
   },
   "outputs": [],
   "source": [
    "#Mathematisch\n",
    "modellenamen_selektiert = ['fit_apple_select', 'fit_alphabet_select', 'fit_cisco_select', 'fit_asml_select']\n",
    "    \n",
    "for i in range(0,len(modellenamen_selektiert)):    \n",
    "    exec(f'mse = {modellenamen_selektiert[i]}.mse_total')\n",
    "    print('Das ' + str(y_true.columns[i])+ ' Modell hat einen MSE von ' + str(mse) +'.')"
   ]
  },
  {
   "cell_type": "markdown",
   "id": "d180c7ad",
   "metadata": {
    "id": "d180c7ad"
   },
   "source": [
    "## 5.10 Rollingregreession machen (selektiertes Modell)"
   ]
  },
  {
   "cell_type": "markdown",
   "id": "7348f725",
   "metadata": {
    "id": "7348f725"
   },
   "source": [
    "### 5.10.1 Daten anpassen"
   ]
  },
  {
   "cell_type": "code",
   "execution_count": null,
   "id": "d1782a2e",
   "metadata": {
    "id": "d1782a2e"
   },
   "outputs": [],
   "source": [
    "y_werte_neu = y_werte.drop(['NVIDIA Corp','ASML Holding NV EU' ,'SAP SE', 'SAP SE EU', 'Logitech International SA'], 1)"
   ]
  },
  {
   "cell_type": "code",
   "execution_count": null,
   "id": "7eab63b2",
   "metadata": {
    "id": "7eab63b2",
    "scrolled": true
   },
   "outputs": [],
   "source": [
    "x_werte_neu = x_werte.drop(['EUPPI=ECI','DEGDP=ECI' ,'EUGDP=ECI', 'Logitech International SA Lag'], 1)"
   ]
  },
  {
   "cell_type": "code",
   "execution_count": null,
   "id": "a3be3ea8",
   "metadata": {
    "id": "a3be3ea8"
   },
   "outputs": [],
   "source": [
    "asset = {'Apple Inc': [0,1,1], 'Alphabet Inc': [1,2,1], 'Cisco Systems Inc': [2,5,3], 'ASML Holding NV': [5,6,0]}\n",
    "anz_x_werte_neu = pd.DataFrame(data=asset, index = ['Index von', 'Index bis', 'Anzahl'])"
   ]
  },
  {
   "cell_type": "markdown",
   "id": "c6c0093a",
   "metadata": {
    "id": "c6c0093a"
   },
   "source": [
    "### 5.10.2 manuelle Methode"
   ]
  },
  {
   "cell_type": "code",
   "execution_count": null,
   "id": "162b989f",
   "metadata": {
    "id": "162b989f"
   },
   "outputs": [],
   "source": [
    "import statsmodels.api as sm\n",
    "\n",
    "modellenamen_selektiert_rolling = ['fit_apple_select_rolling', 'fit_alphabet_select_rolling', 'fit_cisco_select_rolling', 'fit_asml_select_rolling']\n",
    "    \n",
    "for i in range(0,len(modellenamen_selektiert_rolling)):\n",
    "    y = y_werte_neu.iloc[:,i]\n",
    "    \n",
    "    von = anz_x_werte_neu.iloc[0,i]\n",
    "    bis = anz_x_werte_neu.iloc[1,i]\n",
    "    \n",
    "    x = x_werte_neu.iloc[1:,von:bis]\n",
    "    \n",
    "    x = sm.add_constant(x)\n",
    "    \n",
    "    exec(f'{modellenamen_selektiert_rolling[i]} = rolling_regression(y.astype(float), x.astype(float), 30)')\n",
    "    exec(f'{modellenamen_selektiert_rolling[i]} = pd.DataFrame.from_dict(dict(zip({modellenamen_selektiert_rolling[i]}.index, {modellenamen_selektiert_rolling[i]}.values))).T')"
   ]
  },
  {
   "cell_type": "code",
   "execution_count": null,
   "id": "d297770b",
   "metadata": {
    "id": "d297770b"
   },
   "outputs": [],
   "source": [
    "fit_apple_select_rolling.columns=[\"Beta_1\",\"Beta_2\"]\n",
    "fit_alphabet_select_rolling.columns=[\"Beta_1\",\"Beta_2\"]\n",
    "fit_cisco_select_rolling.columns=[\"Beta_1\",\"Beta_2\",\"Beta_3\",\"Beta_4\"]\n",
    "fit_asml_select_rolling.columns = [\"Beta_1\",\"Beta_2\"]"
   ]
  },
  {
   "cell_type": "code",
   "execution_count": null,
   "id": "2ece18ec",
   "metadata": {
    "id": "2ece18ec"
   },
   "outputs": [],
   "source": [
    "import chart_studio\n",
    "import cufflinks as cf\n",
    "\n",
    "cf.set_config_file(offline = True)\n",
    "\n",
    "fit_apple_select_rolling.normalize().iplot()\n",
    "fit_alphabet_select_rolling.normalize().iplot()\n",
    "fit_cisco_select_rolling.normalize().iplot()\n",
    "fit_asml_select_rolling.normalize().iplot()"
   ]
  },
  {
   "cell_type": "markdown",
   "id": "7041c5e8",
   "metadata": {
    "id": "7041c5e8"
   },
   "source": [
    "### 5.10.3 package Methode"
   ]
  },
  {
   "cell_type": "code",
   "execution_count": null,
   "id": "35b60d13",
   "metadata": {
    "id": "35b60d13"
   },
   "outputs": [],
   "source": [
    "import statsmodels.api as sm\n",
    "from statsmodels.regression.rolling import RollingOLS\n",
    "\n",
    "modellenamen_selektiert_rolling = ['fit_apple_select_rolling', 'fit_alphabet_select_rolling', 'fit_cisco_select_rolling', 'fit_asml_select_rolling']\n",
    "    \n",
    "for i in range(0,len(modellenamen_selektiert_rolling)):\n",
    "    y = y_werte_neu.iloc[:,i].values\n",
    "    \n",
    "    von = anz_x_werte_neu.iloc[0,i]\n",
    "    bis = anz_x_werte_neu.iloc[1,i]\n",
    "    \n",
    "    x = x_werte_neu.iloc[1:,von:bis]\n",
    "    x = sm.add_constant(x)\n",
    "        \n",
    "    rols = RollingOLS(y.astype(float), x.astype(float), window=30)\n",
    "    rres = rols.fit()\n",
    "    \n",
    "    params = rres.params.copy()\n",
    "    params.index = np.arange(1, params.shape[0] + 1)\n",
    "    \n",
    "    exec(f'{modellenamen_selektiert_rolling[i]}_2 = params')\n",
    "    exec(f'{modellenamen_selektiert_rolling[i]}_plot_2 = rres')"
   ]
  },
  {
   "cell_type": "code",
   "execution_count": null,
   "id": "4efad0ca",
   "metadata": {
    "id": "4efad0ca"
   },
   "outputs": [],
   "source": [
    "fig = plt.figure(figsize=(14,6))\n",
    "fig = fit_apple_select_rolling_plot_2.plot_recursive_coefficient(fig=fig)"
   ]
  },
  {
   "cell_type": "code",
   "execution_count": null,
   "id": "5edcbd4a",
   "metadata": {
    "id": "5edcbd4a"
   },
   "outputs": [],
   "source": [
    "fig = plt.figure(figsize=(14,6))\n",
    "fig = fit_alphabet_select_rolling_plot_2.plot_recursive_coefficient(fig=fig)"
   ]
  },
  {
   "cell_type": "code",
   "execution_count": null,
   "id": "dcdd9fa0",
   "metadata": {
    "id": "dcdd9fa0"
   },
   "outputs": [],
   "source": [
    "fig = plt.figure(figsize=(14,6))\n",
    "fig = fit_cisco_select_rolling_plot_2.plot_recursive_coefficient(fig=fig)"
   ]
  },
  {
   "cell_type": "code",
   "execution_count": null,
   "id": "eaa803e4",
   "metadata": {
    "id": "eaa803e4"
   },
   "outputs": [],
   "source": [
    "fig = plt.figure(figsize=(14,6))\n",
    "fig = fit_asml_select_rolling_plot_2.plot_recursive_coefficient(fig=fig)"
   ]
  },
  {
   "cell_type": "markdown",
   "id": "f037e9a9",
   "metadata": {
    "id": "f037e9a9"
   },
   "source": [
    "### 5.11 Chow Test"
   ]
  },
  {
   "cell_type": "code",
   "execution_count": null,
   "id": "bdd0fc94",
   "metadata": {
    "id": "bdd0fc94"
   },
   "outputs": [],
   "source": [
    "modellenamen_chow = ['Apple Modell', 'Alphabet Modell', 'Cisco Modell', 'ASML Modell']\n",
    "import scipy\n",
    "\n",
    "for i in range(0,len(modellenamen_chow)):\n",
    "    von = anz_x_werte_neu.iloc[0,i]\n",
    "    bis = anz_x_werte_neu.iloc[1,i]\n",
    "\n",
    "    y = y_werte_neu.iloc[:,i]    \n",
    "    x = x_werte_neu.iloc[1:,von:bis]\n",
    "    x = sm.add_constant(x)\n",
    "    \n",
    "    fit_1 = sm.OLS(y.astype(float),x.astype(float), missing = \"drop\").fit()\n",
    "    rssd = fit_1.ssr\n",
    "    \n",
    "    y_1 = y_werte_neu.iloc[:60,i]\n",
    "    x_1 = x_werte_neu.iloc[1:61,von:bis]\n",
    "    x_1 = sm.add_constant(x_1)    \n",
    "    \n",
    "    fit_2 = sm.OLS(y_1.astype(float),x_1.astype(float), missing = \"drop\").fit()\n",
    "    rssb = fit_2.ssr\n",
    "    \n",
    "    y_2 = y_werte_neu.iloc[60:,i]\n",
    "    x_2 = x_werte_neu.iloc[61:,von:bis]\n",
    "    x_2 = sm.add_constant(x_2)\n",
    "    \n",
    "    fit_3 = sm.OLS(y_2.astype(float),x_2.astype(float), missing = \"drop\").fit()\n",
    "    rssnb = fit_3.ssr\n",
    "    \n",
    "    j = x.shape[1]\n",
    "    k = x_1.shape[1]\n",
    "    n1 = x_1.shape[0]\n",
    "    n2 = x_2.shape[0]\n",
    "    \n",
    "    werte = (j,k,n1,n2)\n",
    "    \n",
    "    chow_statistic = ((rssd-(rssb+rssnb))/j)/((rssb+rssnb)/(n1+n2-2*k))\n",
    "    chow_wert = scipy.stats.f.cdf(chow_statistic, j, (n1+n2-2*k))\n",
    "\n",
    "    print('Die Werte für das ' + modellenamen_chow[i] + ' sind ' + str(werte) + ' und der Chow Test zeigt einen Wert von ' + str(chow_wert) + ' an.')"
   ]
  },
  {
   "cell_type": "markdown",
   "id": "eb78cdab",
   "metadata": {
    "id": "eb78cdab"
   },
   "source": [
    "# 6 Sonst"
   ]
  },
  {
   "cell_type": "code",
   "execution_count": null,
   "id": "3c61333b",
   "metadata": {
    "id": "3c61333b"
   },
   "outputs": [],
   "source": [
    "acf_plot(assetdata,12)"
   ]
  }
 ],
 "metadata": {
  "colab": {
   "name": "Kopie von Kopie von AQM_with_Excel.ipynb",
   "provenance": [
    {
     "file_id": "1ILCumsMZyw2_-AGxHr7UM82qsRzNKgOe",
     "timestamp": 1653043628112
    },
    {
     "file_id": "https://github.com/hasaneld/aqm/blob/main/AQM_with_Excel.ipynb",
     "timestamp": 1653042480464
    }
   ]
  },
  "kernelspec": {
   "display_name": "Python 3 (ipykernel)",
   "language": "python",
   "name": "python3"
  },
  "language_info": {
   "codemirror_mode": {
    "name": "ipython",
    "version": 3
   },
   "file_extension": ".py",
   "mimetype": "text/x-python",
   "name": "python",
   "nbconvert_exporter": "python",
   "pygments_lexer": "ipython3",
   "version": "3.9.12"
  }
 },
 "nbformat": 4,
 "nbformat_minor": 5
}
